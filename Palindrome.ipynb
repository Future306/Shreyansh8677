{
  "nbformat": 4,
  "nbformat_minor": 0,
  "metadata": {
    "colab": {
      "name": "Untitled0.ipynb",
      "provenance": [],
      "authorship_tag": "ABX9TyO6VNCIXb9nVnJGjcxKp23n",
      "include_colab_link": true
    },
    "kernelspec": {
      "name": "python3",
      "display_name": "Python 3"
    },
    "language_info": {
      "name": "python"
    }
  },
  "cells": [
    {
      "cell_type": "markdown",
      "metadata": {
        "id": "view-in-github",
        "colab_type": "text"
      },
      "source": [
        "<a href=\"https://colab.research.google.com/github/Future306/Future306/blob/main/Palindrome.ipynb\" target=\"_parent\"><img src=\"https://colab.research.google.com/assets/colab-badge.svg\" alt=\"Open In Colab\"/></a>"
      ]
    },
    {
      "cell_type": "code",
      "metadata": {
        "colab": {
          "base_uri": "https://localhost:8080/"
        },
        "id": "9OSEG7uXsJqz",
        "outputId": "0d2a2dd5-5546-4401-bda9-6a480f7eb58d"
      },
      "source": [
        "def check_palindrome_1(string):\n",
        "    reversed_string=string[::-1]\n",
        "    status=1\n",
        "    if(string!=reversed_string):\n",
        "      status=0\n",
        "    return status\n",
        "\n",
        "string = input(\"Enter the string: \")\n",
        "status= check_palindrome_1(string)\n",
        "if(status):\n",
        "    print(\"Its a palindrome \")\n",
        "else:\n",
        "    print(\"Its not a palindrome\")\n"
      ],
      "execution_count": 9,
      "outputs": [
        {
          "output_type": "stream",
          "text": [
            "Enter the string: radar\n",
            "Its a palindrome \n"
          ],
          "name": "stdout"
        }
      ]
    },
    {
      "cell_type": "code",
      "metadata": {
        "id": "qOtvgcbXshnH"
      },
      "source": [
        ""
      ],
      "execution_count": null,
      "outputs": []
    }
  ]
}