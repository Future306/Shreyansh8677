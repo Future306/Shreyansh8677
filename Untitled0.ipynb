{
  "nbformat": 4,
  "nbformat_minor": 0,
  "metadata": {
    "colab": {
      "name": "Untitled0.ipynb",
      "provenance": []
    },
    "kernelspec": {
      "name": "python3",
      "display_name": "Python 3"
    },
    "language_info": {
      "name": "python"
    }
  },
  "cells": [
    {
      "cell_type": "code",
      "metadata": {
        "colab": {
          "base_uri": "https://localhost:8080/"
        },
        "id": "KK4SSTjsjz8_",
        "outputId": "3d4a8837-ac18-41f7-d5cf-88a301304e8b"
      },
      "source": [
        "number=int(input(\"Enter any number :\"))\n",
        "temp=number\n",
        "reverse_num=0\n",
        "while(number>0):\n",
        "    digit=number%10\n",
        "    reverse_num=reverse_num*10+digit\n",
        "    number=number//10\n",
        "if(temp==reverse_num):\n",
        "    print(\"The number is a palindrome!\")\n",
        "else:\n",
        "    print(\"Not a palindrome!\")\n"
      ],
      "execution_count": null,
      "outputs": [
        {
          "output_type": "stream",
          "text": [
            "Enter any number :1\n",
            "The number is a palindrome!\n"
          ],
          "name": "stdout"
        }
      ]
    },
    {
      "cell_type": "code",
      "metadata": {
        "colab": {
          "base_uri": "https://localhost:8080/"
        },
        "id": "9OSEG7uXsJqz",
        "outputId": "0d2a2dd5-5546-4401-bda9-6a480f7eb58d"
      },
      "source": [
        "def check_palindrome_1(string):\n",
        "    reversed_string=string[::-1]\n",
        "    status=1\n",
        "    if(string!=reversed_string):\n",
        "      status=0\n",
        "    return status\n",
        "\n",
        "string = input(\"Enter the string: \")\n",
        "status= check_palindrome_1(string)\n",
        "if(status):\n",
        "    print(\"Its a palindrome \")\n",
        "else:\n",
        "    print(\"Its not a palindrome\")\n"
      ],
      "execution_count": 9,
      "outputs": [
        {
          "output_type": "stream",
          "text": [
            "Enter the string: radar\n",
            "Its a palindrome \n"
          ],
          "name": "stdout"
        }
      ]
    },
    {
      "cell_type": "code",
      "metadata": {
        "id": "qOtvgcbXshnH"
      },
      "source": [
        ""
      ],
      "execution_count": null,
      "outputs": []
    }
  ]
}